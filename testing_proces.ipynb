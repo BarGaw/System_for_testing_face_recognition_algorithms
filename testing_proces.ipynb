{
 "cells": [
  {
   "cell_type": "markdown",
   "metadata": {},
   "source": [
    "# Uploading datasets"
   ]
  },
  {
   "cell_type": "code",
   "execution_count": null,
   "metadata": {},
   "outputs": [],
   "source": [
    "import db_functions as f\n",
    "import importlib\n",
    "importlib.reload(f)\n",
    "\n",
    "con = f.Connection()\n",
    "\n",
    "con.upload('upload_lfw.csv', 'lfw', 'Test_description_1')\n",
    "con.upload('upload_yt_face.csv', 'yt', 'Test_description_2')"
   ]
  },
  {
   "cell_type": "markdown",
   "metadata": {},
   "source": [
    "# Testing model"
   ]
  },
  {
   "cell_type": "code",
   "execution_count": 10,
   "metadata": {},
   "outputs": [],
   "source": [
    "import face_recognition\n",
    "import db_functions as f\n",
    "import importlib\n",
    "importlib.reload(f)\n",
    "import numpy as np"
   ]
  },
  {
   "cell_type": "code",
   "execution_count": 11,
   "metadata": {},
   "outputs": [],
   "source": [
    "class Model():\n",
    "    def __init__(self, name) -> None:\n",
    "        self.t = 0.7\n",
    "        self.name = name\n",
    "\n",
    "    def given_learn(self, img_list):\n",
    "        self.encodings = []\n",
    "        for i in img_list:\n",
    "            if len(face_recognition.face_encodings(np.array(i, dtype=np.uint8))) > 0:\n",
    "                self.encodings.append(face_recognition.face_encodings(np.array(i, dtype=np.uint8))[0])\n",
    "            else:\n",
    "                self.encodings.append(np.zeros(128))\n",
    "        return self.encodings\n",
    "    \n",
    "    def recognize(self, img):\n",
    "        ret_vect = np.zeros(len(self.encodings))\n",
    "        face = face_recognition.face_encodings(np.array(img, dtype=np.uint8))\n",
    "        if len(face) < 1:\n",
    "            return None\n",
    "        else:\n",
    "            dist = face_recognition.face_distance(self.encodings, face_recognition.face_encodings(np.array(img, dtype=np.uint8))[0])\n",
    "        \n",
    "        if min(dist) < self.t:\n",
    "            ret_vect[dist.argmin()] = 1\n",
    "        return ret_vect\n",
    "    \n",
    "model = Model(\"aaa\")"
   ]
  },
  {
   "cell_type": "code",
   "execution_count": 13,
   "metadata": {},
   "outputs": [
    {
     "name": "stderr",
     "output_type": "stream",
     "text": [
      "d:\\AGH\\Semestr_9\\Praca_magisterska\\db_functions.py:153: SAWarning: implicitly coercing SELECT object to scalar subquery; please use the .scalar_subquery() method to produce a scalar subquery.\n",
      "  persons = session.query(Person).where(Person.id == Img.person_id).where(Img.ds_id == dataset_id).distinct().order_by(func.random()).all()\n",
      "d:\\AGH\\Semestr_9\\Praca_magisterska\\db_functions.py:194: SAWarning: implicitly coercing SELECT object to scalar subquery; please use the .scalar_subquery() method to produce a scalar subquery.\n",
      "  persons = session.query(Person).where((Person.id == Img.person_id) & (Person.id.notin_(known_id))).where(Img.ds_id == dataset_id).distinct().order_by(func.random()).all()\n"
     ]
    },
    {
     "data": {
      "image/png": "[encoded data removed]",
      "text/plain": [
       "<Figure size 640x480 with 1 Axes>"
      ]
     },
     "metadata": {},
     "output_type": "display_data"
    },
    {
     "data": {
      "image/png": "[encoded data removed]",
      "text/plain": [
       "<Figure size 640x480 with 1 Axes>"
      ]
     },
     "metadata": {},
     "output_type": "display_data"
    },
    {
     "name": "stdout",
     "output_type": "stream",
     "text": [
      "Name of tested model:     Test_model_2\n",
      "Training time:            8.347445700000208\n",
      "Average recognition time: 0.4967736687500235\n",
      "Size of model:            10928\n",
      "\n",
      "FNMR:  0.5\n",
      "FMR:   0.42857142857142855\n",
      "FTA:   16\n",
      "FRR:   0.75\n",
      "FAR:   0.21428571428571427\n"
     ]
    }
   ],
   "source": [
    "importlib.reload(f)\n",
    "nm = \"Test_model_2\"\n",
    "con = f.Connection()\n",
    "con.prepare('lfw', 9, 2, 7, 2)\n",
    "model = Model(nm)\n",
    "con.train_model(model)\n",
    "con.add_model(model)\n",
    "con.verify_model(model_name=nm, visual=True)"
   ]
  }
 ],
 "metadata": {
  "kernelspec": {
   "display_name": "mgr",
   "language": "python",
   "name": "python3"
  },
  "language_info": {
   "codemirror_mode": {
    "name": "ipython",
    "version": 3
   },
   "file_extension": ".py",
   "mimetype": "text/x-python",
   "name": "python",
   "nbconvert_exporter": "python",
   "pygments_lexer": "ipython3",
   "version": "3.9.16"
  },
  "orig_nbformat": 4
 },
 "nbformat": 4,
 "nbformat_minor": 2
}
